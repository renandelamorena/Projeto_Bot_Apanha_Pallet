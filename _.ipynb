{
 "cells": [
  {
   "cell_type": "code",
   "execution_count": 124,
   "metadata": {},
   "outputs": [],
   "source": [
    "import pyautogui as pag\n",
    "import pyperclip as pcl\n",
    "import time\n",
    "\n",
    "from func import verifica_tela\n",
    "from func.geral import caminho_absoluto as caminho"
   ]
  },
  {
   "cell_type": "code",
   "execution_count": 25,
   "metadata": {},
   "outputs": [],
   "source": [
    "# sleep(2)\n",
    "a = pcl.paste()"
   ]
  },
  {
   "cell_type": "code",
   "execution_count": 26,
   "metadata": {},
   "outputs": [
    {
     "data": {
      "text/plain": [
       "'Cód.: 020000062345\\r\\n'"
      ]
     },
     "execution_count": 26,
     "metadata": {},
     "output_type": "execute_result"
    }
   ],
   "source": [
    "a"
   ]
  },
  {
   "cell_type": "code",
   "execution_count": 74,
   "metadata": {},
   "outputs": [],
   "source": [
    "a = pag.confirm(text='A automação será iniciada ao apertar em \"OK\".', title='ATENÇÃO!', buttons=['OK', 'Cancel'])"
   ]
  },
  {
   "cell_type": "code",
   "execution_count": 72,
   "metadata": {},
   "outputs": [
    {
     "data": {
      "text/plain": [
       "'OK'"
      ]
     },
     "execution_count": 72,
     "metadata": {},
     "output_type": "execute_result"
    }
   ],
   "source": [
    "pag.alert(text='Para encerrar a automação, mova o mouse para o canto da tela.', title='ATENÇÃO!', button='OK')"
   ]
  },
  {
   "cell_type": "code",
   "execution_count": 77,
   "metadata": {},
   "outputs": [
    {
     "data": {
      "text/plain": [
       "'Pallet'"
      ]
     },
     "execution_count": 77,
     "metadata": {},
     "output_type": "execute_result"
    }
   ],
   "source": [
    "selec_impressora = None\n",
    "while selec_impressora == None:\n",
    "    selec_impressora = pag.confirm(text='Qual impressora você deseja enviar as etiquetas?', title='Selecione a impressora', buttons=['Pallet', 'Estoque'])\n",
    "\n",
    "selec_impressora"
   ]
  },
  {
   "cell_type": "code",
   "execution_count": 81,
   "metadata": {},
   "outputs": [
    {
     "name": "stdout",
     "output_type": "stream",
     "text": [
      "010170030402\n"
     ]
    }
   ],
   "source": [
    "origem = 'Origem: 017-003-04-02\\r\\n'\n",
    "\n",
    "numero = '01' + ''.join(filter(str.isdigit, origem))\n",
    "\n",
    "print(numero)"
   ]
  },
  {
   "cell_type": "code",
   "execution_count": 82,
   "metadata": {},
   "outputs": [
    {
     "name": "stdout",
     "output_type": "stream",
     "text": [
      "000000000000168250\n"
     ]
    }
   ],
   "source": [
    "origem = 'UMA: 000000000000168250\\r\\n'\n",
    "\n",
    "numero = ''.join(filter(str.isdigit, origem))\n",
    "\n",
    "print(numero)"
   ]
  },
  {
   "cell_type": "code",
   "execution_count": 98,
   "metadata": {},
   "outputs": [
    {
     "name": "stdout",
     "output_type": "stream",
     "text": [
      "62345\n"
     ]
    }
   ],
   "source": [
    "origem = 'Cód.: 020000062345\\r\\n'\n",
    "\n",
    "numero = origem.replace('Cód.: ', '').replace('\\r', '').replace('\\n', '')\n",
    "\n",
    "numero_tratado = numero[2:].lstrip('0')"
   ]
  },
  {
   "cell_type": "code",
   "execution_count": 122,
   "metadata": {},
   "outputs": [],
   "source": [
    "sleep(2)\n",
    "pag.hotkey('ctrl', 'right')\n",
    "pag.press('backspace', presses=20)\n",
    "\n",
    "pcl.copy('pallet')\n",
    "pag.hotkey('ctrl', 'v')"
   ]
  },
  {
   "cell_type": "code",
   "execution_count": 129,
   "metadata": {},
   "outputs": [
    {
     "name": "stdout",
     "output_type": "stream",
     "text": [
      "Imagem não encontrada.\n",
      "Aguardando a condição ser atendida...\n",
      "Imagem não encontrada.\n",
      "Aguardando a condição ser atendida...\n",
      "Imagem encontrada!\n",
      "Condição atendida imagem aceitar encontrada. Continuando com o restante do código.\n"
     ]
    }
   ],
   "source": [
    "aceitar = verifica_tela.verificar_imagem_encontrada(time.time(), 20, caminho('img/atividade_20/aceitar.png'), 0.5, 'aceitar')"
   ]
  },
  {
   "cell_type": "code",
   "execution_count": 130,
   "metadata": {},
   "outputs": [],
   "source": [
    "aceitar"
   ]
  }
 ],
 "metadata": {
  "kernelspec": {
   "display_name": "Python 3",
   "language": "python",
   "name": "python3"
  },
  "language_info": {
   "codemirror_mode": {
    "name": "ipython",
    "version": 3
   },
   "file_extension": ".py",
   "mimetype": "text/x-python",
   "name": "python",
   "nbconvert_exporter": "python",
   "pygments_lexer": "ipython3",
   "version": "3.11.9"
  }
 },
 "nbformat": 4,
 "nbformat_minor": 2
}
